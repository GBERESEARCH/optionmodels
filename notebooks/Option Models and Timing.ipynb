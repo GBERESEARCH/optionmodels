{
 "cells": [
  {
   "cell_type": "markdown",
   "metadata": {},
   "source": [
    "# Option Models"
   ]
  },
  {
   "cell_type": "markdown",
   "metadata": {},
   "source": [
    "### Import models and create a Pricer object "
   ]
  },
  {
   "cell_type": "code",
   "execution_count": 1,
   "metadata": {},
   "outputs": [],
   "source": [
    "import models as mod\n",
    "opt = mod.Pricer()"
   ]
  },
  {
   "cell_type": "markdown",
   "metadata": {},
   "source": [
    "### Option pricing models:\n",
    "  - Black-Scholes-Merton (1973)\n",
    "  - Black (1976)\n",
    "  - Cox-Ross-Rubinstein Binomial (1979) \n",
    "  - Leisen-Reimer Binomial (1996)\n",
    "  - Trinomial tree\n",
    "  - Explicit Finite Difference\n",
    "  - Implicit Finite Difference\n",
    "  - Crank-Nicolson Finite Difference\n",
    "  - European Monte Carlo\n",
    "  - Hull-White (1987) - Uncorrelated Stochastic Vol\n",
    "  - Hull White (1988) - Correlated Stochastic Vol"
   ]
  },
  {
   "cell_type": "markdown",
   "metadata": {},
   "source": [
    "### All the models can be run with default parameters (defaults to ATM call with Spot=100, 3M maturity, 20% flat vol, interest rate 50 bps, no dividends) for ease of speed comparison"
   ]
  },
  {
   "cell_type": "markdown",
   "metadata": {},
   "source": [
    "### Black-Scholes-Merton (1973)"
   ]
  },
  {
   "cell_type": "code",
   "execution_count": 2,
   "metadata": {},
   "outputs": [
    {
     "name": "stdout",
     "output_type": "stream",
     "text": [
      "models.black_scholes_merton : 0.75 milliseconds\n"
     ]
    },
    {
     "data": {
      "text/plain": [
       "4.048042413561525"
      ]
     },
     "execution_count": 2,
     "metadata": {},
     "output_type": "execute_result"
    }
   ],
   "source": [
    "opt.black_scholes_merton(S=100, K=100, T=0.25, r=0.005, q=0, sigma=0.2, \n",
    "                             option='call', timing=True)"
   ]
  },
  {
   "cell_type": "markdown",
   "metadata": {},
   "source": [
    "### Black (1976)"
   ]
  },
  {
   "cell_type": "code",
   "execution_count": 3,
   "metadata": {},
   "outputs": [
    {
     "name": "stdout",
     "output_type": "stream",
     "text": [
      "models.black_76 : 0.77 milliseconds\n"
     ]
    },
    {
     "data": {
      "text/plain": [
       "3.9827795803556256"
      ]
     },
     "execution_count": 3,
     "metadata": {},
     "output_type": "execute_result"
    }
   ],
   "source": [
    "opt.black_76(F=100, K=100, T=0.25, r=0.005, sigma=0.2, option='call', timing=True)"
   ]
  },
  {
   "cell_type": "markdown",
   "metadata": {},
   "source": [
    "### Binomial models take a steps parameter that affects price convergence"
   ]
  },
  {
   "cell_type": "markdown",
   "metadata": {},
   "source": [
    "### European Binomial"
   ]
  },
  {
   "cell_type": "code",
   "execution_count": 4,
   "metadata": {},
   "outputs": [
    {
     "name": "stdout",
     "output_type": "stream",
     "text": [
      "models.european_binomial : 3.91 milliseconds\n"
     ]
    },
    {
     "data": {
      "text/plain": [
       "4.047046143589442"
      ]
     },
     "execution_count": 4,
     "metadata": {},
     "output_type": "execute_result"
    }
   ],
   "source": [
    "opt.european_binomial(timing=True, steps=1000)"
   ]
  },
  {
   "cell_type": "markdown",
   "metadata": {},
   "source": [
    "### Cox-Ross-Rubinstein Binomial (1979)"
   ]
  },
  {
   "cell_type": "code",
   "execution_count": 5,
   "metadata": {},
   "outputs": [
    {
     "name": "stdout",
     "output_type": "stream",
     "text": [
      "models.cox_ross_rubinstein_binomial : 995.22 milliseconds\n"
     ]
    },
    {
     "data": {
      "text/plain": [
       "4.0470461435875675"
      ]
     },
     "execution_count": 5,
     "metadata": {},
     "output_type": "execute_result"
    }
   ],
   "source": [
    "opt.cox_ross_rubinstein_binomial(timing=True, steps=1000) "
   ]
  },
  {
   "cell_type": "markdown",
   "metadata": {},
   "source": [
    "### Leisen-Reimer Binomial (1996)"
   ]
  },
  {
   "cell_type": "code",
   "execution_count": 6,
   "metadata": {},
   "outputs": [
    {
     "name": "stdout",
     "output_type": "stream",
     "text": [
      "models.leisen_reimer_binomial : 1038.54 milliseconds\n"
     ]
    },
    {
     "data": {
      "text/plain": [
       "4.046052673547936"
      ]
     },
     "execution_count": 6,
     "metadata": {},
     "output_type": "execute_result"
    }
   ],
   "source": [
    "opt.leisen_reimer_binomial(timing=True, steps=1000)"
   ]
  },
  {
   "cell_type": "markdown",
   "metadata": {},
   "source": [
    "### Trinomial Tree"
   ]
  },
  {
   "cell_type": "code",
   "execution_count": 7,
   "metadata": {},
   "outputs": [
    {
     "name": "stdout",
     "output_type": "stream",
     "text": [
      "models.trinomial_tree : 712.95 milliseconds\n"
     ]
    },
    {
     "data": {
      "text/plain": [
       "('Price = 4.04754424738756',\n",
       " 'Delta = 0.5249220250843253',\n",
       " 'Gamma = 0.03983126963014231',\n",
       " 'Theta = -2.545721822067789')"
      ]
     },
     "execution_count": 7,
     "metadata": {},
     "output_type": "execute_result"
    }
   ],
   "source": [
    "opt.trinomial_tree(timing=True, output_flag='all')"
   ]
  },
  {
   "cell_type": "markdown",
   "metadata": {},
   "source": [
    "### Finite difference methods take a nodes parameter as well as a steps parameter"
   ]
  },
  {
   "cell_type": "markdown",
   "metadata": {},
   "source": [
    "### Explicit Finite Difference"
   ]
  },
  {
   "cell_type": "code",
   "execution_count": 9,
   "metadata": {},
   "outputs": [
    {
     "name": "stdout",
     "output_type": "stream",
     "text": [
      "models.explicit_finite_difference : 2137.89 milliseconds\n"
     ]
    },
    {
     "data": {
      "text/plain": [
       "4.047111602237269"
      ]
     },
     "execution_count": 9,
     "metadata": {},
     "output_type": "execute_result"
    }
   ],
   "source": [
    "opt.explicit_finite_difference(nodes=200, timing=True)"
   ]
  },
  {
   "cell_type": "markdown",
   "metadata": {},
   "source": [
    "### Implicit Finite Difference"
   ]
  },
  {
   "cell_type": "code",
   "execution_count": 10,
   "metadata": {},
   "outputs": [
    {
     "name": "stdout",
     "output_type": "stream",
     "text": [
      "models.implicit_finite_difference : 1712.29 milliseconds\n"
     ]
    },
    {
     "data": {
      "text/plain": [
       "4.143624734962403"
      ]
     },
     "execution_count": 10,
     "metadata": {},
     "output_type": "execute_result"
    }
   ],
   "source": [
    "opt.implicit_finite_difference(steps=50, nodes=1000, timing=True)"
   ]
  },
  {
   "cell_type": "markdown",
   "metadata": {},
   "source": [
    "### Explicit Finite Difference - expressed in terms of ln(S)"
   ]
  },
  {
   "cell_type": "code",
   "execution_count": 15,
   "metadata": {},
   "outputs": [
    {
     "name": "stdout",
     "output_type": "stream",
     "text": [
      "models.explicit_finite_difference_lns : 10.18 milliseconds\n"
     ]
    },
    {
     "data": {
      "text/plain": [
       "4.028020090133145"
      ]
     },
     "execution_count": 15,
     "metadata": {},
     "output_type": "execute_result"
    }
   ],
   "source": [
    "opt.explicit_finite_difference_lns(steps=50, timing=True)"
   ]
  },
  {
   "cell_type": "markdown",
   "metadata": {},
   "source": [
    "### Crank-Nicolson Finite Difference"
   ]
  },
  {
   "cell_type": "code",
   "execution_count": 16,
   "metadata": {},
   "outputs": [
    {
     "name": "stdout",
     "output_type": "stream",
     "text": [
      "models.crank_nicolson : 2896.59 milliseconds\n"
     ]
    },
    {
     "data": {
      "text/plain": [
       "4.043047188800918"
      ]
     },
     "execution_count": 16,
     "metadata": {},
     "output_type": "execute_result"
    }
   ],
   "source": [
    "opt.crank_nicolson(steps=300, nodes=200, timing=True)"
   ]
  },
  {
   "cell_type": "markdown",
   "metadata": {},
   "source": [
    "### Monte Carlo models take a simulations parameter"
   ]
  },
  {
   "cell_type": "markdown",
   "metadata": {},
   "source": [
    "### European Monte Carlo"
   ]
  },
  {
   "cell_type": "code",
   "execution_count": 17,
   "metadata": {},
   "outputs": [
    {
     "name": "stdout",
     "output_type": "stream",
     "text": [
      "models.european_monte_carlo : 704.9 milliseconds\n"
     ]
    },
    {
     "data": {
      "text/plain": [
       "4.1204024446534655"
      ]
     },
     "execution_count": 17,
     "metadata": {},
     "output_type": "execute_result"
    }
   ],
   "source": [
    "opt.european_monte_carlo(simulations=10000, timing=True)"
   ]
  },
  {
   "cell_type": "markdown",
   "metadata": {},
   "source": [
    "### European Monte Carlo with greeks"
   ]
  },
  {
   "cell_type": "code",
   "execution_count": 18,
   "metadata": {},
   "outputs": [
    {
     "name": "stdout",
     "output_type": "stream",
     "text": [
      "models.european_monte_carlo_with_greeks : 7147.13 milliseconds\n"
     ]
    },
    {
     "data": {
      "text/plain": [
       "4.055502245232732"
      ]
     },
     "execution_count": 18,
     "metadata": {},
     "output_type": "execute_result"
    }
   ],
   "source": [
    "opt.european_monte_carlo_with_greeks(simulations=100000, timing=True)"
   ]
  },
  {
   "cell_type": "markdown",
   "metadata": {},
   "source": [
    "### Hull-White models take a vol of vol parameter"
   ]
  },
  {
   "cell_type": "markdown",
   "metadata": {},
   "source": [
    "### Hull White (1987) - Uncorrelated Stochastic Volatility."
   ]
  },
  {
   "cell_type": "code",
   "execution_count": 21,
   "metadata": {},
   "outputs": [
    {
     "name": "stdout",
     "output_type": "stream",
     "text": [
      "models.hull_white_87 : 0.59 milliseconds\n"
     ]
    },
    {
     "data": {
      "text/plain": [
       "4.034660581705144"
      ]
     },
     "execution_count": 21,
     "metadata": {},
     "output_type": "execute_result"
    }
   ],
   "source": [
    "opt.hull_white_87(timing=True)"
   ]
  },
  {
   "cell_type": "markdown",
   "metadata": {},
   "source": [
    "### Hull White (1988) - Correlated Stochastic Volatility."
   ]
  },
  {
   "cell_type": "markdown",
   "metadata": {},
   "source": [
    "#### Takes additional parameters for initial volatility, long run mean reversion level of volatility, \n",
    "#### half-life of volatility deviation, correlation between asset price and volatility."
   ]
  },
  {
   "cell_type": "code",
   "execution_count": 22,
   "metadata": {},
   "outputs": [
    {
     "name": "stdout",
     "output_type": "stream",
     "text": [
      "models.hull_white_88 : 0.42 milliseconds\n"
     ]
    },
    {
     "data": {
      "text/plain": [
       "4.048042413561525"
      ]
     },
     "execution_count": 22,
     "metadata": {},
     "output_type": "execute_result"
    }
   ],
   "source": [
    "opt.hull_white_88(vvol=0, sig0=0.2, sigLR=0.2, timing=True)"
   ]
  },
  {
   "cell_type": "markdown",
   "metadata": {},
   "source": [
    "&nbsp;\n",
    "\n",
    "## Implied Volatility"
   ]
  },
  {
   "cell_type": "markdown",
   "metadata": {},
   "source": [
    "### Create an ImpliedVol object  "
   ]
  },
  {
   "cell_type": "code",
   "execution_count": 23,
   "metadata": {},
   "outputs": [],
   "source": [
    "vol = mod.ImpliedVol()"
   ]
  },
  {
   "cell_type": "markdown",
   "metadata": {},
   "source": [
    "### Newton Raphson"
   ]
  },
  {
   "cell_type": "code",
   "execution_count": 28,
   "metadata": {},
   "outputs": [
    {
     "name": "stdout",
     "output_type": "stream",
     "text": [
      "models.implied_vol_newton_raphson : 1.53 milliseconds\n"
     ]
    },
    {
     "data": {
      "text/plain": [
       "0.25237511892413567"
      ]
     },
     "execution_count": 28,
     "metadata": {},
     "output_type": "execute_result"
    }
   ],
   "source": [
    "vol.implied_vol_newton_raphson(S=3435, K=3450, T=(57/365), r=0.005, q=0, cm=143.10, \n",
    "                               epsilon=0.0001, option='put', timing=True)"
   ]
  },
  {
   "cell_type": "markdown",
   "metadata": {},
   "source": [
    "### Bisection"
   ]
  },
  {
   "cell_type": "code",
   "execution_count": 29,
   "metadata": {},
   "outputs": [
    {
     "name": "stdout",
     "output_type": "stream",
     "text": [
      "models.implied_vol_bisection : 3.98 milliseconds\n"
     ]
    },
    {
     "data": {
      "text/plain": [
       "0.25237514199166633"
      ]
     },
     "execution_count": 29,
     "metadata": {},
     "output_type": "execute_result"
    }
   ],
   "source": [
    "vol.implied_vol_bisection(S=3435, K=3450, T=(57/365), r=0.005, q=0, cm=143.10, \n",
    "                          epsilon=0.0001, option='put', timing=True)"
   ]
  },
  {
   "cell_type": "markdown",
   "metadata": {},
   "source": [
    "### Simple iterative process"
   ]
  },
  {
   "cell_type": "code",
   "execution_count": 30,
   "metadata": {},
   "outputs": [
    {
     "name": "stdout",
     "output_type": "stream",
     "text": [
      "models.implied_vol_naive : 9.95 milliseconds\n"
     ]
    },
    {
     "data": {
      "text/plain": [
       "0.25237499999999985"
      ]
     },
     "execution_count": 30,
     "metadata": {},
     "output_type": "execute_result"
    }
   ],
   "source": [
    "vol.implied_vol_naive(S=3435, K=3450, T=(57/365), r=0.005, q=0, cm=143.10, \n",
    "                      epsilon=0.0001, option='put', timing=True)"
   ]
  },
  {
   "cell_type": "markdown",
   "metadata": {},
   "source": [
    "### Simple iterative process with more explicit loops"
   ]
  },
  {
   "cell_type": "code",
   "execution_count": 31,
   "metadata": {},
   "outputs": [
    {
     "name": "stdout",
     "output_type": "stream",
     "text": [
      "models.implied_vol_naive_verbose : 21.91 milliseconds\n"
     ]
    },
    {
     "data": {
      "text/plain": [
       "0.25237499999999924"
      ]
     },
     "execution_count": 31,
     "metadata": {},
     "output_type": "execute_result"
    }
   ],
   "source": [
    "vol.implied_vol_naive_verbose(S=3435, K=3450, T=(57/365), r=0.005, q=0, cm=143.10, \n",
    "                              epsilon=0.0001, option='put', timing=True)"
   ]
  },
  {
   "cell_type": "markdown",
   "metadata": {},
   "source": [
    "&nbsp;\n",
    "\n",
    "## SABR Calibration"
   ]
  },
  {
   "cell_type": "markdown",
   "metadata": {},
   "source": [
    "### Create a SABRVolatility object "
   ]
  },
  {
   "cell_type": "code",
   "execution_count": 32,
   "metadata": {},
   "outputs": [],
   "source": [
    "sabr = mod.SABRVolatility(F=100, X=70, T=0.5, r=0.05, atmvol=0.3, beta=0.9999, volvol=0.5, rho=-0.4, option='put')"
   ]
  },
  {
   "cell_type": "markdown",
   "metadata": {},
   "source": [
    "### Calibrate model to give vol"
   ]
  },
  {
   "cell_type": "code",
   "execution_count": 33,
   "metadata": {},
   "outputs": [
    {
     "data": {
      "text/plain": [
       "0.34353031289249697"
      ]
     },
     "execution_count": 33,
     "metadata": {},
     "output_type": "execute_result"
    }
   ],
   "source": [
    "sabr.calibrate()"
   ]
  },
  {
   "cell_type": "markdown",
   "metadata": {},
   "source": [
    "### Option price"
   ]
  },
  {
   "cell_type": "code",
   "execution_count": 34,
   "metadata": {},
   "outputs": [
    {
     "data": {
      "text/plain": [
       "0.6208656778681751"
      ]
     },
     "execution_count": 34,
     "metadata": {},
     "output_type": "execute_result"
    }
   ],
   "source": [
    "sabr.price(option='put')"
   ]
  },
  {
   "cell_type": "code",
   "execution_count": null,
   "metadata": {},
   "outputs": [],
   "source": []
  }
 ],
 "metadata": {
  "kernelspec": {
   "display_name": "Python 3",
   "language": "python",
   "name": "python3"
  },
  "language_info": {
   "codemirror_mode": {
    "name": "ipython",
    "version": 3
   },
   "file_extension": ".py",
   "mimetype": "text/x-python",
   "name": "python",
   "nbconvert_exporter": "python",
   "pygments_lexer": "ipython3",
   "version": "3.7.3"
  }
 },
 "nbformat": 4,
 "nbformat_minor": 2
}
